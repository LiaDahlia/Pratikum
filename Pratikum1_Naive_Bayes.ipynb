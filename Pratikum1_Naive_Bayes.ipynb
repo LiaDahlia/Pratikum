{
  "nbformat": 4,
  "nbformat_minor": 0,
  "metadata": {
    "colab": {
      "name": "Pratikum1_Naive_Bayes.ipynb",
      "provenance": [],
      "authorship_tag": "ABX9TyN9WzLLFZxDTckxS2djJLUF",
      "include_colab_link": true
    },
    "kernelspec": {
      "name": "python3",
      "display_name": "Python 3"
    }
  },
  "cells": [
    {
      "cell_type": "markdown",
      "metadata": {
        "id": "view-in-github",
        "colab_type": "text"
      },
      "source": [
        "<a href=\"https://colab.research.google.com/github/LiaDahlia/Pratikum-Machine-Learning/blob/main/Pratikum1_Naive_Bayes.ipynb\" target=\"_parent\"><img src=\"https://colab.research.google.com/assets/colab-badge.svg\" alt=\"Open In Colab\"/></a>"
      ]
    },
    {
      "cell_type": "code",
      "metadata": {
        "id": "ecjq-3vrZdCn"
      },
      "source": [
        "#Tentukan Dataset\r\n",
        "Action1=['Punch','Punch','Kick','Punch','Special','Punch','Kick','Special','Kick','Kick','Special','Special']\r\n",
        "Action2=['Punch','Kick','Punch','Special','Punch','Kick','Special','Punch','Kick','Kick','Punch','Kick']\r\n",
        "Action3=['Kick','Punch','Special','Punch','Kick','Special','Punch','Kick','Kick','Punch','Punch','Special']\r\n",
        "Action4=['Punch','Special','Punch','Kick','Special','Punch','Kick','Kick','Punch','Special','Punch','Kick']"
      ],
      "execution_count": null,
      "outputs": []
    },
    {
      "cell_type": "code",
      "metadata": {
        "colab": {
          "base_uri": "https://localhost:8080/"
        },
        "id": "tY-pVt_0bVj-",
        "outputId": "13495cc8-7efd-4a92-d5b3-8871cd50b927"
      },
      "source": [
        "#Import LabelEncoder\r\n",
        "from sklearn import preprocessing\r\n",
        "#creating labelEncoder\r\n",
        "label = preprocessing.LabelEncoder()\r\n",
        "#Convert label string ke numbers\r\n",
        "Action1_encoded=label.fit_transform(Action1)\r\n",
        "print (Action1_encoded) #0 Kick 1 Punch 2 Special"
      ],
      "execution_count": null,
      "outputs": [
        {
          "output_type": "stream",
          "text": [
            "[1 1 0 1 2 1 0 2 0 0 2 2]\n"
          ],
          "name": "stdout"
        }
      ]
    },
    {
      "cell_type": "code",
      "metadata": {
        "colab": {
          "base_uri": "https://localhost:8080/"
        },
        "id": "qJsVRp_ycGkm",
        "outputId": "68e04f7a-714d-4dfa-dd3f-b980029b1c28"
      },
      "source": [
        "#Import LabelEncoder\r\n",
        "from sklearn import preprocessing\r\n",
        "#creating labelEncoder\r\n",
        "label = preprocessing.LabelEncoder()\r\n",
        "#Convert label string ke numbers\r\n",
        "Action2_encoded=label.fit_transform(Action2)\r\n",
        "print (Action2_encoded) #0 Kick 1 Punch 2 Special"
      ],
      "execution_count": null,
      "outputs": [
        {
          "output_type": "stream",
          "text": [
            "[1 0 1 2 1 0 2 1 0 0 1 0]\n"
          ],
          "name": "stdout"
        }
      ]
    },
    {
      "cell_type": "code",
      "metadata": {
        "colab": {
          "base_uri": "https://localhost:8080/"
        },
        "id": "IDuMCmB-dz51",
        "outputId": "530a68c6-87d5-46e8-f726-00ef199f1302"
      },
      "source": [
        "#Import LabelEncoder\r\n",
        "from sklearn import preprocessing\r\n",
        "#creating labelEncoder\r\n",
        "label = preprocessing.LabelEncoder()\r\n",
        "#Convert label string ke numbers\r\n",
        "Action3_encoded=label.fit_transform(Action3)\r\n",
        "print (Action3_encoded) #0 Kick 1 Punch 2 Special\r\n",
        "\r\n",
        "Action4_encoded=label.fit_transform(Action4)\r\n",
        "print (Action4_encoded) #0 Kick 1 Punch 2 Special"
      ],
      "execution_count": null,
      "outputs": [
        {
          "output_type": "stream",
          "text": [
            "[0 1 2 1 0 2 1 0 0 1 1 2]\n",
            "[1 2 1 0 2 1 0 0 1 2 1 0]\n"
          ],
          "name": "stdout"
        }
      ]
    },
    {
      "cell_type": "code",
      "metadata": {
        "colab": {
          "base_uri": "https://localhost:8080/"
        },
        "id": "JV1lL3M5eFU3",
        "outputId": "4a7ecd0a-cb1b-45ad-a2f4-d558d6110faf"
      },
      "source": [
        "print (\"Action 1:\",Action1_encoded)\r\n",
        "print (\"Action 2:\",Action2_encoded)\r\n",
        "print (\"Action 3:\",Action3_encoded)\r\n",
        "print (\"Action 4:\",Action4_encoded) #class"
      ],
      "execution_count": null,
      "outputs": [
        {
          "output_type": "stream",
          "text": [
            "Action 1: [1 1 0 1 2 1 0 2 0 0 2 2]\n",
            "Action 2: [1 0 1 2 1 0 2 1 0 0 1 0]\n",
            "Action 3: [0 1 2 1 0 2 1 0 0 1 1 2]\n",
            "Action 4: [1 2 1 0 2 1 0 0 1 2 1 0]\n"
          ],
          "name": "stdout"
        }
      ]
    },
    {
      "cell_type": "code",
      "metadata": {
        "colab": {
          "base_uri": "https://localhost:8080/"
        },
        "id": "eYOP2yucKlBM",
        "outputId": "b7f713f2-8235-4066-e6a5-3a9fb582ea80"
      },
      "source": [
        "#Combining fitur-fitur yang ada\r\n",
        "features=zip(Action1_encoded,Action2_encoded,Action3_encoded)\r\n",
        "features=list(features)\r\n",
        "print (tuple(features))"
      ],
      "execution_count": null,
      "outputs": [
        {
          "output_type": "stream",
          "text": [
            "((1, 1, 0), (1, 0, 1), (0, 1, 2), (1, 2, 1), (2, 1, 0), (1, 0, 2), (0, 2, 1), (2, 1, 0), (0, 0, 0), (0, 0, 1), (2, 1, 1), (2, 0, 2))\n"
          ],
          "name": "stdout"
        }
      ]
    },
    {
      "cell_type": "code",
      "metadata": {
        "colab": {
          "base_uri": "https://localhost:8080/"
        },
        "id": "PINxKjFfJQl9",
        "outputId": "76edb461-8731-4767-b6fb-45d7455d21ba"
      },
      "source": [
        "#Import Gaussian Naive Bayes model\r\n",
        "from sklearn.naive_bayes import GaussianNB\r\n",
        "\r\n",
        "#Panggil Gaussian Classifier\r\n",
        "model = GaussianNB()\r\n",
        "\r\n",
        "#Train model untuk data training\r\n",
        "model.fit(features,Action4)\r\n",
        "#Model.fit(features,label.reshape(-1,1))\r\n",
        "\r\n",
        "#Peridiction Output\r\n",
        "predicted = model.predict([[0,1,1]]) #0 Kick 1 Punch 1 Punch\r\n",
        "print (\"Hasil Perdiksi:\", predicted)"
      ],
      "execution_count": null,
      "outputs": [
        {
          "output_type": "stream",
          "text": [
            "Hasil Perdiksi: ['Punch']\n"
          ],
          "name": "stdout"
        }
      ]
    }
  ]
}