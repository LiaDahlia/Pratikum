{
  "nbformat": 4,
  "nbformat_minor": 0,
  "metadata": {
    "colab": {
      "name": "Pratikum1_Naive_Bayes.ipynb",
      "provenance": [],
      "authorship_tag": "ABX9TyOBZhfsdVpeP0LzXsQI+jkz",
      "include_colab_link": true
    },
    "kernelspec": {
      "name": "python3",
      "display_name": "Python 3"
    }
  },
  "cells": [
    {
      "cell_type": "markdown",
      "metadata": {
        "id": "view-in-github",
        "colab_type": "text"
      },
      "source": [
        "<a href=\"https://colab.research.google.com/github/LiaDahlia/Pratikum-Machine-Learning/blob/main/Pratikum1_Naive_Bayes.ipynb\" target=\"_parent\"><img src=\"https://colab.research.google.com/assets/colab-badge.svg\" alt=\"Open In Colab\"/></a>"
      ]
    },
    {
      "cell_type": "code",
      "metadata": {
        "id": "ecjq-3vrZdCn"
      },
      "source": [
        "#Tentukan Dataset\r\n",
        "Action1=['Punch','Punch','Kick','Punch','Special','Punch','Kick','Special','Kick','Kick','Special','Special']\r\n",
        "Action2=['Punch','Kick','Punch','Special','Punch','Kick','Special','Punch','Kick','Kick','Punch','Kick']\r\n",
        "Action3=['Kick','Punch','Special','Punch','Kick','Special','Punch','Kick','Kick','Punch','Punch','Special']\r\n",
        "Action4=['Punch','Special','Punch','Kick','Special','Punch','Kick','Kick','Punch','Special','Punch','Kick']"
      ],
      "execution_count": null,
      "outputs": []
    },
    {
      "cell_type": "code",
      "metadata": {
        "colab": {
          "base_uri": "https://localhost:8080/"
        },
        "id": "tY-pVt_0bVj-",
        "outputId": "9c942abe-8064-498f-b129-fd09c7359284"
      },
      "source": [
        "#Import LabelEncoder\r\n",
        "from sklearn import preprocessing\r\n",
        "#creating labelEncoder\r\n",
        "label = preprocessing.LabelEncoder()\r\n",
        "#Convert label string ke numbers\r\n",
        "Action1_encoded=label.fit_transform(Action1)\r\n",
        "print (Action1_encoded) #0 Kick 1 Punch 2 Special"
      ],
      "execution_count": null,
      "outputs": [
        {
          "output_type": "stream",
          "text": [
            "[1 1 0 1 2 1 0 2 0 0 2 2]\n"
          ],
          "name": "stdout"
        }
      ]
    },
    {
      "cell_type": "code",
      "metadata": {
        "colab": {
          "base_uri": "https://localhost:8080/"
        },
        "id": "qJsVRp_ycGkm",
        "outputId": "ce88b948-f617-4c8e-cf3a-2ee4b1e78da9"
      },
      "source": [
        "#Import LabelEncoder\r\n",
        "from sklearn import preprocessing\r\n",
        "#creating labelEncoder\r\n",
        "label = preprocessing.LabelEncoder()\r\n",
        "#Convert label string ke numbers\r\n",
        "Action2_encoded=label.fit_transform(Action2)\r\n",
        "print (Action2_encoded) #0 Kick 1 Punch 2 Special"
      ],
      "execution_count": null,
      "outputs": [
        {
          "output_type": "stream",
          "text": [
            "[1 0 1 2 1 0 2 1 0 0 1 0]\n"
          ],
          "name": "stdout"
        }
      ]
    },
    {
      "cell_type": "code",
      "metadata": {
        "colab": {
          "base_uri": "https://localhost:8080/"
        },
        "id": "IDuMCmB-dz51",
        "outputId": "a76f07c0-7ba6-4a9b-c3a9-5e1a6e7d96ec"
      },
      "source": [
        "#Import LabelEncoder\r\n",
        "from sklearn import preprocessing\r\n",
        "#creating labelEncoder\r\n",
        "label = preprocessing.LabelEncoder()\r\n",
        "#Convert label string ke numbers\r\n",
        "Action3_encoded=label.fit_transform(Action3)\r\n",
        "print (Action3_encoded) #0 Kick 1 Punch 2 Special\r\n",
        "\r\n",
        "Action4_encoded=label.fit_transform(Action4)\r\n",
        "print (Action4_encoded) #0 Kick 1 Punch 2 Special"
      ],
      "execution_count": null,
      "outputs": [
        {
          "output_type": "stream",
          "text": [
            "[0 1 2 1 0 2 1 0 0 1 1 2]\n",
            "[1 2 1 0 2 1 0 0 1 2 1 0]\n"
          ],
          "name": "stdout"
        }
      ]
    },
    {
      "cell_type": "code",
      "metadata": {
        "colab": {
          "base_uri": "https://localhost:8080/"
        },
        "id": "JV1lL3M5eFU3",
        "outputId": "ca1a315d-7fac-46ba-d159-c601e1180310"
      },
      "source": [
        "print (\"Action 1:\",Action1_encoded)\r\n",
        "print (\"Action 2:\",Action2_encoded)\r\n",
        "print (\"Action 3:\",Action3_encoded)\r\n",
        "print (\"Action 4:\",Action4_encoded) #class"
      ],
      "execution_count": null,
      "outputs": [
        {
          "output_type": "stream",
          "text": [
            "Action 1: [1 1 0 1 2 1 0 2 0 0 2 2]\n",
            "Action 2: [1 0 1 2 1 0 2 1 0 0 1 0]\n",
            "Action 3: [0 1 2 1 0 2 1 0 0 1 1 2]\n",
            "Action 4: [1 2 1 0 2 1 0 0 1 2 1 0]\n"
          ],
          "name": "stdout"
        }
      ]
    }
  ]
}