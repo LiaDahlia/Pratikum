{
  "nbformat": 4,
  "nbformat_minor": 0,
  "metadata": {
    "colab": {
      "name": "Tugas_1_MachineLearning.ipynb",
      "provenance": [],
      "collapsed_sections": [],
      "mount_file_id": "17eaORO-ZGhQqcAPy8TPbkauXpOoKk-1i",
      "authorship_tag": "ABX9TyO4OvZN4bF66YjGT0cCQIVr",
      "include_colab_link": true
    },
    "kernelspec": {
      "name": "python3",
      "display_name": "Python 3"
    }
  },
  "cells": [
    {
      "cell_type": "markdown",
      "metadata": {
        "id": "view-in-github",
        "colab_type": "text"
      },
      "source": [
        "<a href=\"https://colab.research.google.com/github/LiaDahlia/Pratikum-Machine-Learning/blob/main/Tugas_1_MachineLearning.ipynb\" target=\"_parent\"><img src=\"https://colab.research.google.com/assets/colab-badge.svg\" alt=\"Open In Colab\"/></a>"
      ]
    },
    {
      "cell_type": "code",
      "metadata": {
        "id": "nfBY4HMoSY2c",
        "outputId": "ff563865-7919-464a-9fcc-69f21b3ba98e",
        "colab": {
          "base_uri": "https://localhost:8080/",
          "height": 1000
        }
      },
      "source": [
        "import pandas as pd\n",
        "dataset=pd.read_csv(\"/content/drive/My Drive/Machine Learning/Angka Partisipasi Sekolah 2017.csv\")\n",
        "dataset"
      ],
      "execution_count": 17,
      "outputs": [
        {
          "output_type": "execute_result",
          "data": {
            "text/html": [
              "<div>\n",
              "<style scoped>\n",
              "    .dataframe tbody tr th:only-of-type {\n",
              "        vertical-align: middle;\n",
              "    }\n",
              "\n",
              "    .dataframe tbody tr th {\n",
              "        vertical-align: top;\n",
              "    }\n",
              "\n",
              "    .dataframe thead th {\n",
              "        text-align: right;\n",
              "    }\n",
              "</style>\n",
              "<table border=\"1\" class=\"dataframe\">\n",
              "  <thead>\n",
              "    <tr style=\"text-align: right;\">\n",
              "      <th></th>\n",
              "      <th>Provinsi</th>\n",
              "      <th>SD</th>\n",
              "      <th>SMP</th>\n",
              "      <th>SMA</th>\n",
              "      <th>PT</th>\n",
              "    </tr>\n",
              "  </thead>\n",
              "  <tbody>\n",
              "    <tr>\n",
              "      <th>0</th>\n",
              "      <td>ACEH</td>\n",
              "      <td>99.85</td>\n",
              "      <td>98.09</td>\n",
              "      <td>82.15</td>\n",
              "      <td>34.28</td>\n",
              "    </tr>\n",
              "    <tr>\n",
              "      <th>1</th>\n",
              "      <td>SUMATERA UTARA</td>\n",
              "      <td>99.49</td>\n",
              "      <td>96.60</td>\n",
              "      <td>76.76</td>\n",
              "      <td>26.80</td>\n",
              "    </tr>\n",
              "    <tr>\n",
              "      <th>2</th>\n",
              "      <td>SUMATERA BARAT</td>\n",
              "      <td>99.50</td>\n",
              "      <td>96.29</td>\n",
              "      <td>82.86</td>\n",
              "      <td>35.45</td>\n",
              "    </tr>\n",
              "    <tr>\n",
              "      <th>3</th>\n",
              "      <td>RIAU</td>\n",
              "      <td>98.98</td>\n",
              "      <td>94.73</td>\n",
              "      <td>76.52</td>\n",
              "      <td>27.28</td>\n",
              "    </tr>\n",
              "    <tr>\n",
              "      <th>4</th>\n",
              "      <td>JAMBI</td>\n",
              "      <td>99.59</td>\n",
              "      <td>95.89</td>\n",
              "      <td>71.54</td>\n",
              "      <td>24.12</td>\n",
              "    </tr>\n",
              "    <tr>\n",
              "      <th>5</th>\n",
              "      <td>SUMATERA SELATAN</td>\n",
              "      <td>99.63</td>\n",
              "      <td>94.01</td>\n",
              "      <td>69.05</td>\n",
              "      <td>19.17</td>\n",
              "    </tr>\n",
              "    <tr>\n",
              "      <th>6</th>\n",
              "      <td>BENGKULU</td>\n",
              "      <td>99.80</td>\n",
              "      <td>97.20</td>\n",
              "      <td>79.07</td>\n",
              "      <td>29.90</td>\n",
              "    </tr>\n",
              "    <tr>\n",
              "      <th>7</th>\n",
              "      <td>LAMPUNG</td>\n",
              "      <td>99.78</td>\n",
              "      <td>94.76</td>\n",
              "      <td>70.03</td>\n",
              "      <td>20.96</td>\n",
              "    </tr>\n",
              "    <tr>\n",
              "      <th>8</th>\n",
              "      <td>KEP. BANGKA BELITUNG</td>\n",
              "      <td>99.64</td>\n",
              "      <td>92.41</td>\n",
              "      <td>66.99</td>\n",
              "      <td>14.99</td>\n",
              "    </tr>\n",
              "    <tr>\n",
              "      <th>9</th>\n",
              "      <td>KEP. RIAU</td>\n",
              "      <td>99.32</td>\n",
              "      <td>99.08</td>\n",
              "      <td>82.80</td>\n",
              "      <td>19.13</td>\n",
              "    </tr>\n",
              "    <tr>\n",
              "      <th>10</th>\n",
              "      <td>DKI JAKARTA</td>\n",
              "      <td>99.67</td>\n",
              "      <td>97.64</td>\n",
              "      <td>71.50</td>\n",
              "      <td>24.60</td>\n",
              "    </tr>\n",
              "    <tr>\n",
              "      <th>11</th>\n",
              "      <td>JAWA BARAT</td>\n",
              "      <td>99.51</td>\n",
              "      <td>93.77</td>\n",
              "      <td>66.62</td>\n",
              "      <td>21.50</td>\n",
              "    </tr>\n",
              "    <tr>\n",
              "      <th>12</th>\n",
              "      <td>JAWA TENGAH</td>\n",
              "      <td>99.62</td>\n",
              "      <td>95.48</td>\n",
              "      <td>68.48</td>\n",
              "      <td>22.13</td>\n",
              "    </tr>\n",
              "    <tr>\n",
              "      <th>13</th>\n",
              "      <td>DI YOGYAKARTA</td>\n",
              "      <td>99.87</td>\n",
              "      <td>99.63</td>\n",
              "      <td>87.61</td>\n",
              "      <td>51.33</td>\n",
              "    </tr>\n",
              "    <tr>\n",
              "      <th>14</th>\n",
              "      <td>JAWA TIMUR</td>\n",
              "      <td>99.57</td>\n",
              "      <td>96.77</td>\n",
              "      <td>71.51</td>\n",
              "      <td>23.34</td>\n",
              "    </tr>\n",
              "    <tr>\n",
              "      <th>15</th>\n",
              "      <td>BANTEN</td>\n",
              "      <td>99.31</td>\n",
              "      <td>95.67</td>\n",
              "      <td>67.77</td>\n",
              "      <td>21.33</td>\n",
              "    </tr>\n",
              "    <tr>\n",
              "      <th>16</th>\n",
              "      <td>BALI</td>\n",
              "      <td>99.44</td>\n",
              "      <td>97.72</td>\n",
              "      <td>82.16</td>\n",
              "      <td>26.56</td>\n",
              "    </tr>\n",
              "    <tr>\n",
              "      <th>17</th>\n",
              "      <td>NUSA TENGGARA BARAT</td>\n",
              "      <td>99.43</td>\n",
              "      <td>97.69</td>\n",
              "      <td>76.61</td>\n",
              "      <td>28.52</td>\n",
              "    </tr>\n",
              "    <tr>\n",
              "      <th>18</th>\n",
              "      <td>NUSA TENGGARA TIMUR</td>\n",
              "      <td>98.27</td>\n",
              "      <td>94.76</td>\n",
              "      <td>74.65</td>\n",
              "      <td>27.80</td>\n",
              "    </tr>\n",
              "    <tr>\n",
              "      <th>19</th>\n",
              "      <td>KALIMANTAN BARAT</td>\n",
              "      <td>98.44</td>\n",
              "      <td>92.51</td>\n",
              "      <td>67.53</td>\n",
              "      <td>25.80</td>\n",
              "    </tr>\n",
              "    <tr>\n",
              "      <th>20</th>\n",
              "      <td>KALIMANTAN TENGAH</td>\n",
              "      <td>99.50</td>\n",
              "      <td>93.37</td>\n",
              "      <td>66.62</td>\n",
              "      <td>24.15</td>\n",
              "    </tr>\n",
              "    <tr>\n",
              "      <th>21</th>\n",
              "      <td>KALIMANTAN SELATAN</td>\n",
              "      <td>99.55</td>\n",
              "      <td>92.33</td>\n",
              "      <td>68.30</td>\n",
              "      <td>23.53</td>\n",
              "    </tr>\n",
              "    <tr>\n",
              "      <th>22</th>\n",
              "      <td>KALIMANTAN TIMUR</td>\n",
              "      <td>99.67</td>\n",
              "      <td>98.79</td>\n",
              "      <td>81.32</td>\n",
              "      <td>30.04</td>\n",
              "    </tr>\n",
              "    <tr>\n",
              "      <th>23</th>\n",
              "      <td>KALIMANTAN UTARA</td>\n",
              "      <td>98.34</td>\n",
              "      <td>96.04</td>\n",
              "      <td>75.12</td>\n",
              "      <td>20.72</td>\n",
              "    </tr>\n",
              "    <tr>\n",
              "      <th>24</th>\n",
              "      <td>SULAWESI UTARA</td>\n",
              "      <td>99.37</td>\n",
              "      <td>94.91</td>\n",
              "      <td>73.04</td>\n",
              "      <td>24.22</td>\n",
              "    </tr>\n",
              "    <tr>\n",
              "      <th>25</th>\n",
              "      <td>SULAWESI TENGAH</td>\n",
              "      <td>98.15</td>\n",
              "      <td>92.41</td>\n",
              "      <td>74.87</td>\n",
              "      <td>26.31</td>\n",
              "    </tr>\n",
              "    <tr>\n",
              "      <th>26</th>\n",
              "      <td>SULAWESI SELATAN</td>\n",
              "      <td>99.16</td>\n",
              "      <td>93.09</td>\n",
              "      <td>70.60</td>\n",
              "      <td>32.16</td>\n",
              "    </tr>\n",
              "    <tr>\n",
              "      <th>27</th>\n",
              "      <td>SULAWESI TENGGARA</td>\n",
              "      <td>99.32</td>\n",
              "      <td>94.08</td>\n",
              "      <td>72.94</td>\n",
              "      <td>30.03</td>\n",
              "    </tr>\n",
              "    <tr>\n",
              "      <th>28</th>\n",
              "      <td>GORONTALO</td>\n",
              "      <td>98.76</td>\n",
              "      <td>91.23</td>\n",
              "      <td>69.86</td>\n",
              "      <td>29.21</td>\n",
              "    </tr>\n",
              "    <tr>\n",
              "      <th>29</th>\n",
              "      <td>SULAWESI BARAT</td>\n",
              "      <td>98.10</td>\n",
              "      <td>89.88</td>\n",
              "      <td>68.03</td>\n",
              "      <td>23.49</td>\n",
              "    </tr>\n",
              "    <tr>\n",
              "      <th>30</th>\n",
              "      <td>MALUKU</td>\n",
              "      <td>99.72</td>\n",
              "      <td>96.86</td>\n",
              "      <td>79.08</td>\n",
              "      <td>38.20</td>\n",
              "    </tr>\n",
              "    <tr>\n",
              "      <th>31</th>\n",
              "      <td>MALUKU UTARA</td>\n",
              "      <td>99.19</td>\n",
              "      <td>97.24</td>\n",
              "      <td>76.06</td>\n",
              "      <td>32.10</td>\n",
              "    </tr>\n",
              "    <tr>\n",
              "      <th>32</th>\n",
              "      <td>PAPUA BARAT</td>\n",
              "      <td>97.27</td>\n",
              "      <td>96.92</td>\n",
              "      <td>80.60</td>\n",
              "      <td>31.92</td>\n",
              "    </tr>\n",
              "    <tr>\n",
              "      <th>33</th>\n",
              "      <td>PAPUA</td>\n",
              "      <td>81.80</td>\n",
              "      <td>79.09</td>\n",
              "      <td>63.35</td>\n",
              "      <td>24.57</td>\n",
              "    </tr>\n",
              "  </tbody>\n",
              "</table>\n",
              "</div>"
            ],
            "text/plain": [
              "                Provinsi     SD    SMP    SMA     PT\n",
              "0                   ACEH  99.85  98.09  82.15  34.28\n",
              "1         SUMATERA UTARA  99.49  96.60  76.76  26.80\n",
              "2         SUMATERA BARAT  99.50  96.29  82.86  35.45\n",
              "3                   RIAU  98.98  94.73  76.52  27.28\n",
              "4                  JAMBI  99.59  95.89  71.54  24.12\n",
              "5       SUMATERA SELATAN  99.63  94.01  69.05  19.17\n",
              "6               BENGKULU  99.80  97.20  79.07  29.90\n",
              "7                LAMPUNG  99.78  94.76  70.03  20.96\n",
              "8   KEP. BANGKA BELITUNG  99.64  92.41  66.99  14.99\n",
              "9              KEP. RIAU  99.32  99.08  82.80  19.13\n",
              "10           DKI JAKARTA  99.67  97.64  71.50  24.60\n",
              "11            JAWA BARAT  99.51  93.77  66.62  21.50\n",
              "12           JAWA TENGAH  99.62  95.48  68.48  22.13\n",
              "13         DI YOGYAKARTA  99.87  99.63  87.61  51.33\n",
              "14            JAWA TIMUR  99.57  96.77  71.51  23.34\n",
              "15                BANTEN  99.31  95.67  67.77  21.33\n",
              "16                  BALI  99.44  97.72  82.16  26.56\n",
              "17   NUSA TENGGARA BARAT  99.43  97.69  76.61  28.52\n",
              "18   NUSA TENGGARA TIMUR  98.27  94.76  74.65  27.80\n",
              "19      KALIMANTAN BARAT  98.44  92.51  67.53  25.80\n",
              "20     KALIMANTAN TENGAH  99.50  93.37  66.62  24.15\n",
              "21    KALIMANTAN SELATAN  99.55  92.33  68.30  23.53\n",
              "22      KALIMANTAN TIMUR  99.67  98.79  81.32  30.04\n",
              "23      KALIMANTAN UTARA  98.34  96.04  75.12  20.72\n",
              "24        SULAWESI UTARA  99.37  94.91  73.04  24.22\n",
              "25       SULAWESI TENGAH  98.15  92.41  74.87  26.31\n",
              "26      SULAWESI SELATAN  99.16  93.09  70.60  32.16\n",
              "27     SULAWESI TENGGARA  99.32  94.08  72.94  30.03\n",
              "28             GORONTALO  98.76  91.23  69.86  29.21\n",
              "29        SULAWESI BARAT  98.10  89.88  68.03  23.49\n",
              "30                MALUKU  99.72  96.86  79.08  38.20\n",
              "31          MALUKU UTARA  99.19  97.24  76.06  32.10\n",
              "32           PAPUA BARAT  97.27  96.92  80.60  31.92\n",
              "33                 PAPUA  81.80  79.09  63.35  24.57"
            ]
          },
          "metadata": {
            "tags": []
          },
          "execution_count": 17
        }
      ]
    },
    {
      "cell_type": "code",
      "metadata": {
        "id": "1cOL1E5UTRhg",
        "outputId": "5a5e22bb-f1a1-4459-a932-85f0978c707e",
        "colab": {
          "base_uri": "https://localhost:8080/",
          "height": 204
        }
      },
      "source": [
        "dataset.head()"
      ],
      "execution_count": 19,
      "outputs": [
        {
          "output_type": "execute_result",
          "data": {
            "text/html": [
              "<div>\n",
              "<style scoped>\n",
              "    .dataframe tbody tr th:only-of-type {\n",
              "        vertical-align: middle;\n",
              "    }\n",
              "\n",
              "    .dataframe tbody tr th {\n",
              "        vertical-align: top;\n",
              "    }\n",
              "\n",
              "    .dataframe thead th {\n",
              "        text-align: right;\n",
              "    }\n",
              "</style>\n",
              "<table border=\"1\" class=\"dataframe\">\n",
              "  <thead>\n",
              "    <tr style=\"text-align: right;\">\n",
              "      <th></th>\n",
              "      <th>Provinsi</th>\n",
              "      <th>SD</th>\n",
              "      <th>SMP</th>\n",
              "      <th>SMA</th>\n",
              "      <th>PT</th>\n",
              "    </tr>\n",
              "  </thead>\n",
              "  <tbody>\n",
              "    <tr>\n",
              "      <th>0</th>\n",
              "      <td>ACEH</td>\n",
              "      <td>99.85</td>\n",
              "      <td>98.09</td>\n",
              "      <td>82.15</td>\n",
              "      <td>34.28</td>\n",
              "    </tr>\n",
              "    <tr>\n",
              "      <th>1</th>\n",
              "      <td>SUMATERA UTARA</td>\n",
              "      <td>99.49</td>\n",
              "      <td>96.60</td>\n",
              "      <td>76.76</td>\n",
              "      <td>26.80</td>\n",
              "    </tr>\n",
              "    <tr>\n",
              "      <th>2</th>\n",
              "      <td>SUMATERA BARAT</td>\n",
              "      <td>99.50</td>\n",
              "      <td>96.29</td>\n",
              "      <td>82.86</td>\n",
              "      <td>35.45</td>\n",
              "    </tr>\n",
              "    <tr>\n",
              "      <th>3</th>\n",
              "      <td>RIAU</td>\n",
              "      <td>98.98</td>\n",
              "      <td>94.73</td>\n",
              "      <td>76.52</td>\n",
              "      <td>27.28</td>\n",
              "    </tr>\n",
              "    <tr>\n",
              "      <th>4</th>\n",
              "      <td>JAMBI</td>\n",
              "      <td>99.59</td>\n",
              "      <td>95.89</td>\n",
              "      <td>71.54</td>\n",
              "      <td>24.12</td>\n",
              "    </tr>\n",
              "  </tbody>\n",
              "</table>\n",
              "</div>"
            ],
            "text/plain": [
              "         Provinsi     SD    SMP    SMA     PT\n",
              "0            ACEH  99.85  98.09  82.15  34.28\n",
              "1  SUMATERA UTARA  99.49  96.60  76.76  26.80\n",
              "2  SUMATERA BARAT  99.50  96.29  82.86  35.45\n",
              "3            RIAU  98.98  94.73  76.52  27.28\n",
              "4           JAMBI  99.59  95.89  71.54  24.12"
            ]
          },
          "metadata": {
            "tags": []
          },
          "execution_count": 19
        }
      ]
    },
    {
      "cell_type": "code",
      "metadata": {
        "id": "tGW8AOu4TX3K",
        "outputId": "9bf2d564-0c38-487b-96f7-546718e411a9",
        "colab": {
          "base_uri": "https://localhost:8080/",
          "height": 34
        }
      },
      "source": [
        "dataset.shape"
      ],
      "execution_count": 20,
      "outputs": [
        {
          "output_type": "execute_result",
          "data": {
            "text/plain": [
              "(34, 5)"
            ]
          },
          "metadata": {
            "tags": []
          },
          "execution_count": 20
        }
      ]
    },
    {
      "cell_type": "code",
      "metadata": {
        "id": "MVfPE9NTTeLN",
        "outputId": "d55a0e6d-98db-4901-c85a-fc95130186b7",
        "colab": {
          "base_uri": "https://localhost:8080/",
          "height": 119
        }
      },
      "source": [
        "dataset.isnull().sum()"
      ],
      "execution_count": 21,
      "outputs": [
        {
          "output_type": "execute_result",
          "data": {
            "text/plain": [
              "Provinsi    0\n",
              "SD          0\n",
              "SMP         0\n",
              "SMA         0\n",
              "PT          0\n",
              "dtype: int64"
            ]
          },
          "metadata": {
            "tags": []
          },
          "execution_count": 21
        }
      ]
    },
    {
      "cell_type": "code",
      "metadata": {
        "id": "Jhcb7DfmTg40",
        "outputId": "bf422e55-5ce8-43db-a074-efdc741b3cd8",
        "colab": {
          "base_uri": "https://localhost:8080/",
          "height": 119
        }
      },
      "source": [
        "dataset.max()"
      ],
      "execution_count": 24,
      "outputs": [
        {
          "output_type": "execute_result",
          "data": {
            "text/plain": [
              "Provinsi    SUMATERA UTARA\n",
              "SD                   99.87\n",
              "SMP                  99.63\n",
              "SMA                  87.61\n",
              "PT                   51.33\n",
              "dtype: object"
            ]
          },
          "metadata": {
            "tags": []
          },
          "execution_count": 24
        }
      ]
    },
    {
      "cell_type": "code",
      "metadata": {
        "id": "P4zbBplbTpJH",
        "outputId": "558bb968-caa2-4fe5-9206-d993f1a46fae",
        "colab": {
          "base_uri": "https://localhost:8080/",
          "height": 119
        }
      },
      "source": [
        "dataset.min()"
      ],
      "execution_count": 25,
      "outputs": [
        {
          "output_type": "execute_result",
          "data": {
            "text/plain": [
              "Provinsi     ACEH\n",
              "SD           81.8\n",
              "SMP         79.09\n",
              "SMA         63.35\n",
              "PT          14.99\n",
              "dtype: object"
            ]
          },
          "metadata": {
            "tags": []
          },
          "execution_count": 25
        }
      ]
    },
    {
      "cell_type": "code",
      "metadata": {
        "id": "vi_iK0ESTvVx",
        "outputId": "b331fb52-d363-4d8e-d4ae-3771e0383170",
        "colab": {
          "base_uri": "https://localhost:8080/",
          "height": 297
        }
      },
      "source": [
        "dataset.describe()"
      ],
      "execution_count": 26,
      "outputs": [
        {
          "output_type": "execute_result",
          "data": {
            "text/html": [
              "<div>\n",
              "<style scoped>\n",
              "    .dataframe tbody tr th:only-of-type {\n",
              "        vertical-align: middle;\n",
              "    }\n",
              "\n",
              "    .dataframe tbody tr th {\n",
              "        vertical-align: top;\n",
              "    }\n",
              "\n",
              "    .dataframe thead th {\n",
              "        text-align: right;\n",
              "    }\n",
              "</style>\n",
              "<table border=\"1\" class=\"dataframe\">\n",
              "  <thead>\n",
              "    <tr style=\"text-align: right;\">\n",
              "      <th></th>\n",
              "      <th>SD</th>\n",
              "      <th>SMP</th>\n",
              "      <th>SMA</th>\n",
              "      <th>PT</th>\n",
              "    </tr>\n",
              "  </thead>\n",
              "  <tbody>\n",
              "    <tr>\n",
              "      <th>count</th>\n",
              "      <td>34.000000</td>\n",
              "      <td>34.000000</td>\n",
              "      <td>34.000000</td>\n",
              "      <td>34.000000</td>\n",
              "    </tr>\n",
              "    <tr>\n",
              "      <th>mean</th>\n",
              "      <td>98.723824</td>\n",
              "      <td>94.910000</td>\n",
              "      <td>73.882353</td>\n",
              "      <td>26.930588</td>\n",
              "    </tr>\n",
              "    <tr>\n",
              "      <th>std</th>\n",
              "      <td>3.051581</td>\n",
              "      <td>3.653056</td>\n",
              "      <td>6.005293</td>\n",
              "      <td>6.647970</td>\n",
              "    </tr>\n",
              "    <tr>\n",
              "      <th>min</th>\n",
              "      <td>81.800000</td>\n",
              "      <td>79.090000</td>\n",
              "      <td>63.350000</td>\n",
              "      <td>14.990000</td>\n",
              "    </tr>\n",
              "    <tr>\n",
              "      <th>25%</th>\n",
              "      <td>99.025000</td>\n",
              "      <td>93.470000</td>\n",
              "      <td>68.622500</td>\n",
              "      <td>23.377500</td>\n",
              "    </tr>\n",
              "    <tr>\n",
              "      <th>50%</th>\n",
              "      <td>99.465000</td>\n",
              "      <td>95.575000</td>\n",
              "      <td>72.990000</td>\n",
              "      <td>26.055000</td>\n",
              "    </tr>\n",
              "    <tr>\n",
              "      <th>75%</th>\n",
              "      <td>99.627500</td>\n",
              "      <td>97.130000</td>\n",
              "      <td>78.492500</td>\n",
              "      <td>29.997500</td>\n",
              "    </tr>\n",
              "    <tr>\n",
              "      <th>max</th>\n",
              "      <td>99.870000</td>\n",
              "      <td>99.630000</td>\n",
              "      <td>87.610000</td>\n",
              "      <td>51.330000</td>\n",
              "    </tr>\n",
              "  </tbody>\n",
              "</table>\n",
              "</div>"
            ],
            "text/plain": [
              "              SD        SMP        SMA         PT\n",
              "count  34.000000  34.000000  34.000000  34.000000\n",
              "mean   98.723824  94.910000  73.882353  26.930588\n",
              "std     3.051581   3.653056   6.005293   6.647970\n",
              "min    81.800000  79.090000  63.350000  14.990000\n",
              "25%    99.025000  93.470000  68.622500  23.377500\n",
              "50%    99.465000  95.575000  72.990000  26.055000\n",
              "75%    99.627500  97.130000  78.492500  29.997500\n",
              "max    99.870000  99.630000  87.610000  51.330000"
            ]
          },
          "metadata": {
            "tags": []
          },
          "execution_count": 26
        }
      ]
    },
    {
      "cell_type": "code",
      "metadata": {
        "id": "sgTueP63TzHO",
        "outputId": "1b3e6d04-0219-47fa-8c10-4aad5f36c95a",
        "colab": {
          "base_uri": "https://localhost:8080/",
          "height": 34
        }
      },
      "source": [
        "dataset.describe().loc['max','SD']"
      ],
      "execution_count": 27,
      "outputs": [
        {
          "output_type": "execute_result",
          "data": {
            "text/plain": [
              "99.87"
            ]
          },
          "metadata": {
            "tags": []
          },
          "execution_count": 27
        }
      ]
    },
    {
      "cell_type": "code",
      "metadata": {
        "id": "Wwl_YqZ0T-RA",
        "outputId": "a9a6706a-10cc-4b18-dba4-0668f7ab21d3",
        "colab": {
          "base_uri": "https://localhost:8080/",
          "height": 34
        }
      },
      "source": [
        "dataset.describe()['PT']['max']"
      ],
      "execution_count": 31,
      "outputs": [
        {
          "output_type": "execute_result",
          "data": {
            "text/plain": [
              "51.33"
            ]
          },
          "metadata": {
            "tags": []
          },
          "execution_count": 31
        }
      ]
    },
    {
      "cell_type": "code",
      "metadata": {
        "id": "eCLKzKbkQwwF"
      },
      "source": [
        "data=dataset.dropna()"
      ],
      "execution_count": 32,
      "outputs": []
    },
    {
      "cell_type": "code",
      "metadata": {
        "id": "72PF0dgXQ7_r",
        "outputId": "27d4a894-0477-47ae-e6db-ffdcf60abc91",
        "colab": {
          "base_uri": "https://localhost:8080/",
          "height": 34
        }
      },
      "source": [
        "dataset.shape"
      ],
      "execution_count": 33,
      "outputs": [
        {
          "output_type": "execute_result",
          "data": {
            "text/plain": [
              "(34, 5)"
            ]
          },
          "metadata": {
            "tags": []
          },
          "execution_count": 33
        }
      ]
    },
    {
      "cell_type": "code",
      "metadata": {
        "id": "uaIpxjo6XFXf"
      },
      "source": [
        "data=dataset.dropna(axis=0, subset=['SMP','SMA'],inplace=True)"
      ],
      "execution_count": 35,
      "outputs": []
    },
    {
      "cell_type": "code",
      "metadata": {
        "id": "gig8PcRzRJOZ",
        "outputId": "be7a60be-7285-45a7-bd67-c2908a9d3d6d",
        "colab": {
          "base_uri": "https://localhost:8080/",
          "height": 34
        }
      },
      "source": [
        "dataset.shape"
      ],
      "execution_count": 36,
      "outputs": [
        {
          "output_type": "execute_result",
          "data": {
            "text/plain": [
              "(34, 5)"
            ]
          },
          "metadata": {
            "tags": []
          },
          "execution_count": 36
        }
      ]
    },
    {
      "cell_type": "code",
      "metadata": {
        "id": "ngaOat4MRa_r",
        "outputId": "e79aad01-0d5c-45f3-a51e-3c2d8ed556c6",
        "colab": {
          "base_uri": "https://localhost:8080/",
          "height": 612
        }
      },
      "source": [
        "y=dataset['SD']\n",
        "y"
      ],
      "execution_count": 38,
      "outputs": [
        {
          "output_type": "execute_result",
          "data": {
            "text/plain": [
              "0     99.85\n",
              "1     99.49\n",
              "2     99.50\n",
              "3     98.98\n",
              "4     99.59\n",
              "5     99.63\n",
              "6     99.80\n",
              "7     99.78\n",
              "8     99.64\n",
              "9     99.32\n",
              "10    99.67\n",
              "11    99.51\n",
              "12    99.62\n",
              "13    99.87\n",
              "14    99.57\n",
              "15    99.31\n",
              "16    99.44\n",
              "17    99.43\n",
              "18    98.27\n",
              "19    98.44\n",
              "20    99.50\n",
              "21    99.55\n",
              "22    99.67\n",
              "23    98.34\n",
              "24    99.37\n",
              "25    98.15\n",
              "26    99.16\n",
              "27    99.32\n",
              "28    98.76\n",
              "29    98.10\n",
              "30    99.72\n",
              "31    99.19\n",
              "32    97.27\n",
              "33    81.80\n",
              "Name: SD, dtype: float64"
            ]
          },
          "metadata": {
            "tags": []
          },
          "execution_count": 38
        }
      ]
    },
    {
      "cell_type": "code",
      "metadata": {
        "id": "P0rrsMpaRzfb",
        "outputId": "08d5980f-2bb3-4fc2-d755-94e02e73850e",
        "colab": {
          "base_uri": "https://localhost:8080/",
          "height": 1000
        }
      },
      "source": [
        "Fitur=['Provinsi','SMA']\n",
        "x=dataset[Fitur]\n",
        "x"
      ],
      "execution_count": 40,
      "outputs": [
        {
          "output_type": "execute_result",
          "data": {
            "text/html": [
              "<div>\n",
              "<style scoped>\n",
              "    .dataframe tbody tr th:only-of-type {\n",
              "        vertical-align: middle;\n",
              "    }\n",
              "\n",
              "    .dataframe tbody tr th {\n",
              "        vertical-align: top;\n",
              "    }\n",
              "\n",
              "    .dataframe thead th {\n",
              "        text-align: right;\n",
              "    }\n",
              "</style>\n",
              "<table border=\"1\" class=\"dataframe\">\n",
              "  <thead>\n",
              "    <tr style=\"text-align: right;\">\n",
              "      <th></th>\n",
              "      <th>Provinsi</th>\n",
              "      <th>SMA</th>\n",
              "    </tr>\n",
              "  </thead>\n",
              "  <tbody>\n",
              "    <tr>\n",
              "      <th>0</th>\n",
              "      <td>ACEH</td>\n",
              "      <td>82.15</td>\n",
              "    </tr>\n",
              "    <tr>\n",
              "      <th>1</th>\n",
              "      <td>SUMATERA UTARA</td>\n",
              "      <td>76.76</td>\n",
              "    </tr>\n",
              "    <tr>\n",
              "      <th>2</th>\n",
              "      <td>SUMATERA BARAT</td>\n",
              "      <td>82.86</td>\n",
              "    </tr>\n",
              "    <tr>\n",
              "      <th>3</th>\n",
              "      <td>RIAU</td>\n",
              "      <td>76.52</td>\n",
              "    </tr>\n",
              "    <tr>\n",
              "      <th>4</th>\n",
              "      <td>JAMBI</td>\n",
              "      <td>71.54</td>\n",
              "    </tr>\n",
              "    <tr>\n",
              "      <th>5</th>\n",
              "      <td>SUMATERA SELATAN</td>\n",
              "      <td>69.05</td>\n",
              "    </tr>\n",
              "    <tr>\n",
              "      <th>6</th>\n",
              "      <td>BENGKULU</td>\n",
              "      <td>79.07</td>\n",
              "    </tr>\n",
              "    <tr>\n",
              "      <th>7</th>\n",
              "      <td>LAMPUNG</td>\n",
              "      <td>70.03</td>\n",
              "    </tr>\n",
              "    <tr>\n",
              "      <th>8</th>\n",
              "      <td>KEP. BANGKA BELITUNG</td>\n",
              "      <td>66.99</td>\n",
              "    </tr>\n",
              "    <tr>\n",
              "      <th>9</th>\n",
              "      <td>KEP. RIAU</td>\n",
              "      <td>82.80</td>\n",
              "    </tr>\n",
              "    <tr>\n",
              "      <th>10</th>\n",
              "      <td>DKI JAKARTA</td>\n",
              "      <td>71.50</td>\n",
              "    </tr>\n",
              "    <tr>\n",
              "      <th>11</th>\n",
              "      <td>JAWA BARAT</td>\n",
              "      <td>66.62</td>\n",
              "    </tr>\n",
              "    <tr>\n",
              "      <th>12</th>\n",
              "      <td>JAWA TENGAH</td>\n",
              "      <td>68.48</td>\n",
              "    </tr>\n",
              "    <tr>\n",
              "      <th>13</th>\n",
              "      <td>DI YOGYAKARTA</td>\n",
              "      <td>87.61</td>\n",
              "    </tr>\n",
              "    <tr>\n",
              "      <th>14</th>\n",
              "      <td>JAWA TIMUR</td>\n",
              "      <td>71.51</td>\n",
              "    </tr>\n",
              "    <tr>\n",
              "      <th>15</th>\n",
              "      <td>BANTEN</td>\n",
              "      <td>67.77</td>\n",
              "    </tr>\n",
              "    <tr>\n",
              "      <th>16</th>\n",
              "      <td>BALI</td>\n",
              "      <td>82.16</td>\n",
              "    </tr>\n",
              "    <tr>\n",
              "      <th>17</th>\n",
              "      <td>NUSA TENGGARA BARAT</td>\n",
              "      <td>76.61</td>\n",
              "    </tr>\n",
              "    <tr>\n",
              "      <th>18</th>\n",
              "      <td>NUSA TENGGARA TIMUR</td>\n",
              "      <td>74.65</td>\n",
              "    </tr>\n",
              "    <tr>\n",
              "      <th>19</th>\n",
              "      <td>KALIMANTAN BARAT</td>\n",
              "      <td>67.53</td>\n",
              "    </tr>\n",
              "    <tr>\n",
              "      <th>20</th>\n",
              "      <td>KALIMANTAN TENGAH</td>\n",
              "      <td>66.62</td>\n",
              "    </tr>\n",
              "    <tr>\n",
              "      <th>21</th>\n",
              "      <td>KALIMANTAN SELATAN</td>\n",
              "      <td>68.30</td>\n",
              "    </tr>\n",
              "    <tr>\n",
              "      <th>22</th>\n",
              "      <td>KALIMANTAN TIMUR</td>\n",
              "      <td>81.32</td>\n",
              "    </tr>\n",
              "    <tr>\n",
              "      <th>23</th>\n",
              "      <td>KALIMANTAN UTARA</td>\n",
              "      <td>75.12</td>\n",
              "    </tr>\n",
              "    <tr>\n",
              "      <th>24</th>\n",
              "      <td>SULAWESI UTARA</td>\n",
              "      <td>73.04</td>\n",
              "    </tr>\n",
              "    <tr>\n",
              "      <th>25</th>\n",
              "      <td>SULAWESI TENGAH</td>\n",
              "      <td>74.87</td>\n",
              "    </tr>\n",
              "    <tr>\n",
              "      <th>26</th>\n",
              "      <td>SULAWESI SELATAN</td>\n",
              "      <td>70.60</td>\n",
              "    </tr>\n",
              "    <tr>\n",
              "      <th>27</th>\n",
              "      <td>SULAWESI TENGGARA</td>\n",
              "      <td>72.94</td>\n",
              "    </tr>\n",
              "    <tr>\n",
              "      <th>28</th>\n",
              "      <td>GORONTALO</td>\n",
              "      <td>69.86</td>\n",
              "    </tr>\n",
              "    <tr>\n",
              "      <th>29</th>\n",
              "      <td>SULAWESI BARAT</td>\n",
              "      <td>68.03</td>\n",
              "    </tr>\n",
              "    <tr>\n",
              "      <th>30</th>\n",
              "      <td>MALUKU</td>\n",
              "      <td>79.08</td>\n",
              "    </tr>\n",
              "    <tr>\n",
              "      <th>31</th>\n",
              "      <td>MALUKU UTARA</td>\n",
              "      <td>76.06</td>\n",
              "    </tr>\n",
              "    <tr>\n",
              "      <th>32</th>\n",
              "      <td>PAPUA BARAT</td>\n",
              "      <td>80.60</td>\n",
              "    </tr>\n",
              "    <tr>\n",
              "      <th>33</th>\n",
              "      <td>PAPUA</td>\n",
              "      <td>63.35</td>\n",
              "    </tr>\n",
              "  </tbody>\n",
              "</table>\n",
              "</div>"
            ],
            "text/plain": [
              "                Provinsi    SMA\n",
              "0                   ACEH  82.15\n",
              "1         SUMATERA UTARA  76.76\n",
              "2         SUMATERA BARAT  82.86\n",
              "3                   RIAU  76.52\n",
              "4                  JAMBI  71.54\n",
              "5       SUMATERA SELATAN  69.05\n",
              "6               BENGKULU  79.07\n",
              "7                LAMPUNG  70.03\n",
              "8   KEP. BANGKA BELITUNG  66.99\n",
              "9              KEP. RIAU  82.80\n",
              "10           DKI JAKARTA  71.50\n",
              "11            JAWA BARAT  66.62\n",
              "12           JAWA TENGAH  68.48\n",
              "13         DI YOGYAKARTA  87.61\n",
              "14            JAWA TIMUR  71.51\n",
              "15                BANTEN  67.77\n",
              "16                  BALI  82.16\n",
              "17   NUSA TENGGARA BARAT  76.61\n",
              "18   NUSA TENGGARA TIMUR  74.65\n",
              "19      KALIMANTAN BARAT  67.53\n",
              "20     KALIMANTAN TENGAH  66.62\n",
              "21    KALIMANTAN SELATAN  68.30\n",
              "22      KALIMANTAN TIMUR  81.32\n",
              "23      KALIMANTAN UTARA  75.12\n",
              "24        SULAWESI UTARA  73.04\n",
              "25       SULAWESI TENGAH  74.87\n",
              "26      SULAWESI SELATAN  70.60\n",
              "27     SULAWESI TENGGARA  72.94\n",
              "28             GORONTALO  69.86\n",
              "29        SULAWESI BARAT  68.03\n",
              "30                MALUKU  79.08\n",
              "31          MALUKU UTARA  76.06\n",
              "32           PAPUA BARAT  80.60\n",
              "33                 PAPUA  63.35"
            ]
          },
          "metadata": {
            "tags": []
          },
          "execution_count": 40
        }
      ]
    }
  ]
}